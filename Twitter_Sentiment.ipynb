{
  "nbformat": 4,
  "nbformat_minor": 0,
  "metadata": {
    "colab": {
      "name": "Twitter_Sentiment.ipynb",
      "provenance": [],
      "collapsed_sections": [
        "UloQNQraP2XV",
        "5N_p1MryPP5L",
        "9Q994sXRPUyE",
        "DjtlstKGPf5a",
        "Rh3-cU8jPnQ5",
        "CWPDJtFGrjTR",
        "mRmWv4XfyxWP"
      ]
    },
    "kernelspec": {
      "display_name": "Python 3",
      "name": "python3"
    },
    "language_info": {
      "name": "python"
    }
  },
  "cells": [
    {
      "cell_type": "markdown",
      "metadata": {
        "id": "UloQNQraP2XV"
      },
      "source": [
        "## **IMPORTS**"
      ]
    },
    {
      "cell_type": "code",
      "metadata": {
        "id": "QI-OCLN8h7I5"
      },
      "source": [
        "import nltk\n",
        "import re"
      ],
      "execution_count": null,
      "outputs": []
    },
    {
      "cell_type": "code",
      "metadata": {
        "id": "bzQCzSw52yXL"
      },
      "source": [
        "import tweepy\n",
        "import pandas as pd\n",
        "import time\n",
        "import datetime\n",
        "import numpy"
      ],
      "execution_count": null,
      "outputs": []
    },
    {
      "cell_type": "markdown",
      "metadata": {
        "id": "5N_p1MryPP5L"
      },
      "source": [
        "##**TWITTER API**"
      ]
    },
    {
      "cell_type": "code",
      "metadata": {
        "id": "BUL5xehe3uzi"
      },
      "source": [
        "credentials_df = pd.read_csv('credentials.csv',header=None,names=['name','key'])"
      ],
      "execution_count": null,
      "outputs": []
    },
    {
      "cell_type": "code",
      "metadata": {
        "id": "zHrI0YJ_3DGg"
      },
      "source": [
        "consumer_key = credentials_df.loc[credentials_df['name']=='consumer_key','key'].iloc[0]\n",
        "consumer_secret = credentials_df.loc[credentials_df['name']=='consumer_secret','key'].iloc[0]\n",
        "access_token = credentials_df.loc[credentials_df['name']=='access_token','key'].iloc[0]\n",
        "access_token_secret = credentials_df.loc[credentials_df['name']=='access_secret','key'].iloc[0]\n",
        "\n",
        "auth = tweepy.OAuthHandler(consumer_key, consumer_secret)\n",
        "auth.set_access_token(access_token, access_token_secret)\n",
        "api = tweepy.API(auth,wait_on_rate_limit=True)"
      ],
      "execution_count": null,
      "outputs": []
    },
    {
      "cell_type": "markdown",
      "metadata": {
        "id": "9Q994sXRPUyE"
      },
      "source": [
        "##**TWEEPY // SCRAPING TWEETS**"
      ]
    },
    {
      "cell_type": "code",
      "metadata": {
        "id": "ZXfBAXJT5-YS"
      },
      "source": [
        "start_date = datetime.datetime(2021, 6, 12, 00, 00, 00)\n",
        "end_date = datetime.datetime(2021, 6, 20, 00, 00, 00)\n",
        "text_list = [\"DOGE\",\"Dogecoin\",\"doge\"]\n",
        "total = pd.DataFrame()\n",
        "for text in range(0,len(text_list)):\n",
        "  text_query = text_list[text]+\"-filter:retweets\"\n",
        "  # Creation of query method using parameters\n",
        "  tweets = tweepy.Cursor(api.search, q = text_query, tweet_mode = 'extended', lang= \"en\", result_type = 'popular',count = 1000 ).items()\n",
        "      # List comprehension pulling chosen tweet information from tweets iterable object\n",
        "    # Add or remove tweet information you want in the below list comprehension\n",
        "  tweets_list = [[tweet.full_text, tweet.created_at, tweet.retweet_count, tweet.user.verified, tweet.user.name, tweet.user.followers_count, \n",
        "                  tweet.user.friends_count, tweet.user.favourites_count, tweet.user.created_at, tweet.user.statuses_count, tweet.coordinates,\n",
        "                    tweet.place, tweet.lang, tweet.source, tweet.is_quote_status,] for tweet in tweets ]\n",
        "  \n",
        "  tweets_df = pd.DataFrame(tweets_list,columns=['Tweet Text', 'Tweet Datetime','Retweets', 'User Verified Status','Twitter Username', 'Users Following Count','Number users this account is following',\n",
        "                                                'Users Number of Likes','Account Created Time', 'Users Tweet Count', 'Tweet Coordinates', 'Place Info',\n",
        "                                                'Language', 'Source','Quote Status Bool'])\n",
        "  if text==0:\n",
        "    total = tweets_df\n",
        "  else:\n",
        "    total = pd.concat([total,tweets_df])\n",
        "\n",
        "    \n",
        "total.to_csv('tweets.csv', sep=',', index = False)\n",
        "\n",
        "# another dataset\n",
        "for text in range(0,len(text_list)):\n",
        "  text_query = text_list[text]+\"-filter:retweets\"\n",
        "  tweets = tweepy.Cursor(api.search, q = text_query, since = start_date, until = end_date, tweet_mode = 'extended', lang= \"en\", result_type = 'mixed',count = 100).items()\n",
        "      # List comprehension pulling chosen tweet information from tweets iterable object\n",
        "    # Add or remove tweet information you want in the below list comprehension\n",
        "  tweets_list = [[tweet.full_text, tweet.created_at, tweet.retweet_count, tweet.user.verified, tweet.user.name, tweet.user.followers_count, \n",
        "                  tweet.user.friends_count, tweet.user.favourites_count, tweet.user.created_at, tweet.user.statuses_count, tweet.coordinates,\n",
        "                    tweet.place, tweet.lang, tweet.source, tweet.is_quote_status,] for tweet in tweets if tweet.user.followers_count > 500 if tweet.retweet_count > 0]\n",
        "  tweets_df2 = pd.DataFrame(tweets_list,columns=['Tweet Text', 'Tweet Datetime','Retweets', 'User Verified Status','Twitter Username', 'Users Following Count','Number users this account is following',\n",
        "                                                'Users Number of Likes','Account Created Time', 'Users Tweet Count', 'Tweet Coordinates', 'Place Info',\n",
        "                                                'Language', 'Source','Quote Status Bool'])\n",
        "  total = pd.concat([total,tweets_df2])\n",
        "\n",
        "total.to_csv('tweets.csv', sep=',', index = False)\n",
        "\n",
        "\n",
        "\n",
        "\n",
        "\n"
      ],
      "execution_count": null,
      "outputs": []
    },
    {
      "cell_type": "code",
      "metadata": {
        "id": "QI1OV0QhVSul"
      },
      "source": [
        "total = pd.read_csv('tweets.csv')\n",
        "total"
      ],
      "execution_count": null,
      "outputs": []
    },
    {
      "cell_type": "code",
      "metadata": {
        "id": "rSoCCCXRMRgM"
      },
      "source": [
        "total.drop_duplicates(subset =\"Tweet Text\",\n",
        "                     keep = False, inplace = True)"
      ],
      "execution_count": null,
      "outputs": []
    },
    {
      "cell_type": "code",
      "metadata": {
        "id": "XeZvce34NS1W"
      },
      "source": [
        "total.to_csv('tweets.csv', sep=',', index = False)\n"
      ],
      "execution_count": null,
      "outputs": []
    },
    {
      "cell_type": "markdown",
      "metadata": {
        "id": "DjtlstKGPf5a"
      },
      "source": [
        "## **CLEANING TWEETS**"
      ]
    },
    {
      "cell_type": "code",
      "metadata": {
        "id": "OZ6OsVMeR7WZ"
      },
      "source": [
        "#clean text 1\n",
        "\n",
        "def cleanTwt (twt):\n",
        "  twt = re.sub('[#\\$]doge\\w*', \"Doge\", twt) # Removes the # from doge\n",
        "  twt = re.sub('[#\\$]Doge\\w*', 'Doge', twt) # Removes the #\" from Doge\n",
        "  twt = re.sub('[#\\$]DOGE\\w*', 'Doge', twt) # Removes the $\" from DOGE\n",
        "  twt = re.sub('#Dogecoin', 'Doge',twt)\n",
        "  twt = re.sub('[#\\$]btc\\w*', \"Bitcoin\", twt) # \n",
        "  twt = re.sub('[#\\$]BTC\\w*', 'Bitcoin', twt) #\n",
        "  twt = re.sub('[#\\$]BITCOIN\\w*', 'Bitcoin', twt) # \n",
        "  twt = re.sub('#Bitcoin', 'Bitcoin',twt)\n",
        "  \n",
        "  twt = re.sub('#[A-Za-z0-9]+','', twt) #Removes any strings with a #\n",
        "  twt = re.sub('@[A-Za-z0-9]+','', twt) #Removes @\n",
        "  twt = re.sub('\\$[\\SA-Za-z0-9]+','' , twt) \n",
        "  twt = re.sub('\\\\n','',twt) #Removes the \\n string\n",
        "  twt = re.sub('https?:\\/\\/.+','', twt) #Removes any hyperlinks\n",
        "  twt = re.sub('[\\(\\)0-9\\,.%\\-;\\+]+','', twt) \n",
        "  return twt"
      ],
      "execution_count": null,
      "outputs": []
    },
    {
      "cell_type": "code",
      "metadata": {
        "id": "LOlSpcoey2IW"
      },
      "source": [
        "total['Cleaned Text'] = total['Tweet Text'].apply(cleanTwt)\n",
        "\n",
        "#tweets_df.to_csv('tweets_cleaned.csv', sep=',', index = False)"
      ],
      "execution_count": null,
      "outputs": []
    },
    {
      "cell_type": "code",
      "metadata": {
        "colab": {
          "base_uri": "https://localhost:8080/"
        },
        "id": "ejZTC55xjG1d",
        "outputId": "543ca633-4469-43b6-d96c-edc1219e9d8a"
      },
      "source": [
        "#clean text 2\n",
        "from nltk.corpus import stopwords\n",
        "from textblob import Word, TextBlob\n",
        "nltk.download('stopwords')\n",
        "nltk.download('wordnet')\n",
        "stop_words = stopwords.words('english')\n"
      ],
      "execution_count": null,
      "outputs": [
        {
          "output_type": "stream",
          "text": [
            "[nltk_data] Downloading package stopwords to /root/nltk_data...\n",
            "[nltk_data]   Unzipping corpora/stopwords.zip.\n",
            "[nltk_data] Downloading package wordnet to /root/nltk_data...\n",
            "[nltk_data]   Unzipping corpora/wordnet.zip.\n"
          ],
          "name": "stdout"
        }
      ]
    },
    {
      "cell_type": "code",
      "metadata": {
        "id": "YdRmQsyCAAM7"
      },
      "source": [
        "def preprocess_tweets(tweet):\n",
        "    preprocessed_tweet = tweet\n",
        "    preprocessed_tweet = \" \".join(word for word in preprocessed_tweet.split() if word not in stop_words)\n",
        "    preproceesed_tweet = \" \".join(Word(word).lemmatize() for word in preprocessed_tweet.split())\n",
        "    return preprocessed_tweet\n",
        "\n",
        "total['Processed Tweet'] = total['Cleaned Text'].apply(preprocess_tweets)"
      ],
      "execution_count": null,
      "outputs": []
    },
    {
      "cell_type": "code",
      "metadata": {
        "colab": {
          "base_uri": "https://localhost:8080/"
        },
        "id": "btY0DPfd6vA3",
        "outputId": "ea44c6eb-b79f-4485-ef2f-a2aa54513965"
      },
      "source": [
        "total.head(5)"
      ],
      "execution_count": null,
      "outputs": [
        {
          "output_type": "execute_result",
          "data": {
            "text/html": [
              "<div>\n",
              "<style scoped>\n",
              "    .dataframe tbody tr th:only-of-type {\n",
              "        vertical-align: middle;\n",
              "    }\n",
              "\n",
              "    .dataframe tbody tr th {\n",
              "        vertical-align: top;\n",
              "    }\n",
              "\n",
              "    .dataframe thead th {\n",
              "        text-align: right;\n",
              "    }\n",
              "</style>\n",
              "<table border=\"1\" class=\"dataframe\">\n",
              "  <thead>\n",
              "    <tr style=\"text-align: right;\">\n",
              "      <th></th>\n",
              "      <th>Tweet Text</th>\n",
              "      <th>Tweet Datetime</th>\n",
              "      <th>Retweets</th>\n",
              "      <th>User Verified Status</th>\n",
              "      <th>Twitter Username</th>\n",
              "      <th>Users Following Count</th>\n",
              "      <th>Number users this account is following</th>\n",
              "      <th>Users Number of Likes</th>\n",
              "      <th>Account Created Time</th>\n",
              "      <th>Users Tweet Count</th>\n",
              "      <th>Tweet Coordinates</th>\n",
              "      <th>Place Info</th>\n",
              "      <th>Language</th>\n",
              "      <th>Source</th>\n",
              "      <th>Quote Status Bool</th>\n",
              "      <th>Cleaned Text</th>\n",
              "      <th>Processed Tweet</th>\n",
              "    </tr>\n",
              "  </thead>\n",
              "  <tbody>\n",
              "    <tr>\n",
              "      <th>0</th>\n",
              "      <td>We need $DOGE.</td>\n",
              "      <td>2021-06-18 22:18:40</td>\n",
              "      <td>314</td>\n",
              "      <td>True</td>\n",
              "      <td>David Gokhshtein</td>\n",
              "      <td>395581</td>\n",
              "      <td>1339</td>\n",
              "      <td>64333</td>\n",
              "      <td>2010-07-23 20:33:57</td>\n",
              "      <td>65652</td>\n",
              "      <td>NaN</td>\n",
              "      <td>NaN</td>\n",
              "      <td>en</td>\n",
              "      <td>Twitter for iPhone</td>\n",
              "      <td>False</td>\n",
              "      <td>We need Doge</td>\n",
              "      <td>We need Doge</td>\n",
              "    </tr>\n",
              "    <tr>\n",
              "      <th>2</th>\n",
              "      <td>DOGE is needed so people use cryptocurrency as...</td>\n",
              "      <td>2021-06-18 23:06:27</td>\n",
              "      <td>205</td>\n",
              "      <td>True</td>\n",
              "      <td>David Gokhshtein</td>\n",
              "      <td>395581</td>\n",
              "      <td>1339</td>\n",
              "      <td>64333</td>\n",
              "      <td>2010-07-23 20:33:57</td>\n",
              "      <td>65652</td>\n",
              "      <td>NaN</td>\n",
              "      <td>NaN</td>\n",
              "      <td>en</td>\n",
              "      <td>Twitter for iPhone</td>\n",
              "      <td>True</td>\n",
              "      <td>DOGE is needed so people use cryptocurrency as...</td>\n",
              "      <td>DOGE needed people use cryptocurrency intended...</td>\n",
              "    </tr>\n",
              "    <tr>\n",
              "      <th>4</th>\n",
              "      <td>I’ll buy more $DOGE. \\n\\nI’ll buy more $VET.</td>\n",
              "      <td>2021-06-19 08:59:06</td>\n",
              "      <td>137</td>\n",
              "      <td>True</td>\n",
              "      <td>David Gokhshtein</td>\n",
              "      <td>395581</td>\n",
              "      <td>1339</td>\n",
              "      <td>64333</td>\n",
              "      <td>2010-07-23 20:33:57</td>\n",
              "      <td>65652</td>\n",
              "      <td>NaN</td>\n",
              "      <td>NaN</td>\n",
              "      <td>en</td>\n",
              "      <td>Twitter for iPhone</td>\n",
              "      <td>False</td>\n",
              "      <td>I’ll buy more Doge I’ll buy more</td>\n",
              "      <td>I’ll buy Doge I’ll buy</td>\n",
              "    </tr>\n",
              "    <tr>\n",
              "      <th>5</th>\n",
              "      <td>I still believe $DOGE 1$🚀🌕💰</td>\n",
              "      <td>2021-06-18 23:47:50</td>\n",
              "      <td>88</td>\n",
              "      <td>True</td>\n",
              "      <td>Keith “KO kid” Berry</td>\n",
              "      <td>15433</td>\n",
              "      <td>998</td>\n",
              "      <td>189288</td>\n",
              "      <td>2010-03-01 09:21:52</td>\n",
              "      <td>19096</td>\n",
              "      <td>NaN</td>\n",
              "      <td>NaN</td>\n",
              "      <td>en</td>\n",
              "      <td>Twitter for iPhone</td>\n",
              "      <td>False</td>\n",
              "      <td>I still believe Doge</td>\n",
              "      <td>I still believe Doge</td>\n",
              "    </tr>\n",
              "    <tr>\n",
              "      <th>6</th>\n",
              "      <td>I support you if you support #Doge 💙💎💰🚀</td>\n",
              "      <td>2021-06-18 17:18:51</td>\n",
              "      <td>111</td>\n",
              "      <td>True</td>\n",
              "      <td>Keith “KO kid” Berry</td>\n",
              "      <td>15433</td>\n",
              "      <td>998</td>\n",
              "      <td>189288</td>\n",
              "      <td>2010-03-01 09:21:52</td>\n",
              "      <td>19096</td>\n",
              "      <td>NaN</td>\n",
              "      <td>NaN</td>\n",
              "      <td>en</td>\n",
              "      <td>Twitter for iPhone</td>\n",
              "      <td>False</td>\n",
              "      <td>I support you if you support Doge 💙💎💰🚀</td>\n",
              "      <td>I support support Doge 💙💎💰🚀</td>\n",
              "    </tr>\n",
              "  </tbody>\n",
              "</table>\n",
              "</div>"
            ],
            "text/plain": [
              "                                          Tweet Text  ...                                    Processed Tweet\n",
              "0                                     We need $DOGE.  ...                                       We need Doge\n",
              "2  DOGE is needed so people use cryptocurrency as...  ...  DOGE needed people use cryptocurrency intended...\n",
              "4       I’ll buy more $DOGE. \\n\\nI’ll buy more $VET.  ...                             I’ll buy Doge I’ll buy\n",
              "5                        I still believe $DOGE 1$🚀🌕💰  ...                               I still believe Doge\n",
              "6            I support you if you support #Doge 💙💎💰🚀  ...                        I support support Doge 💙💎💰🚀\n",
              "\n",
              "[5 rows x 17 columns]"
            ]
          },
          "metadata": {
            "tags": []
          },
          "execution_count": 11
        }
      ]
    },
    {
      "cell_type": "markdown",
      "metadata": {
        "id": "Rh3-cU8jPnQ5"
      },
      "source": [
        "## **SENTIMENT ANALYSIS  #1**"
      ]
    },
    {
      "cell_type": "code",
      "metadata": {
        "id": "YrERwFSgjwbz"
      },
      "source": [
        "#Create a function to get the subjectivity\n",
        "def getSubjectivity(twt):\n",
        "  return TextBlob(twt).sentiment.subjectivity\n",
        "#Create a function to get the polarity\n",
        "def getPolarity(twt) :\n",
        "  return TextBlob(twt).sentiment.polarity\n",
        "\n",
        "#Create 'Polarity'\n",
        "total['Polarity' ] = total[ 'Processed Tweet'].apply(getPolarity)\n",
        "\n",
        "\n"
      ],
      "execution_count": null,
      "outputs": []
    },
    {
      "cell_type": "code",
      "metadata": {
        "id": "9LT8ePnD7HpJ"
      },
      "source": [
        "def getAnalysis(score) :\n",
        "  if score < 0:\n",
        "    return 'Negative'\n",
        "  elif score == 0:\n",
        "    return 'Neutral'\n",
        "  else:\n",
        "    return 'Positive'\n",
        "total[ 'Analysis'] = total['Polarity'].apply(getAnalysis)\n"
      ],
      "execution_count": null,
      "outputs": []
    },
    {
      "cell_type": "code",
      "metadata": {
        "colab": {
          "base_uri": "https://localhost:8080/",
          "height": 1000
        },
        "id": "8aPRMppcr3rH",
        "outputId": "9b1b005e-36fe-49b5-9d9d-a33e03d815fc"
      },
      "source": [
        "total.sort_values('Tweet Datetime',inplace= True)\n",
        "\n",
        "\n",
        "total"
      ],
      "execution_count": null,
      "outputs": [
        {
          "output_type": "execute_result",
          "data": {
            "text/html": [
              "<div>\n",
              "<style scoped>\n",
              "    .dataframe tbody tr th:only-of-type {\n",
              "        vertical-align: middle;\n",
              "    }\n",
              "\n",
              "    .dataframe tbody tr th {\n",
              "        vertical-align: top;\n",
              "    }\n",
              "\n",
              "    .dataframe thead th {\n",
              "        text-align: right;\n",
              "    }\n",
              "</style>\n",
              "<table border=\"1\" class=\"dataframe\">\n",
              "  <thead>\n",
              "    <tr style=\"text-align: right;\">\n",
              "      <th></th>\n",
              "      <th>Tweet Text</th>\n",
              "      <th>Tweet Datetime</th>\n",
              "      <th>Retweets</th>\n",
              "      <th>User Verified Status</th>\n",
              "      <th>Twitter Username</th>\n",
              "      <th>Users Following Count</th>\n",
              "      <th>Number users this account is following</th>\n",
              "      <th>Users Number of Likes</th>\n",
              "      <th>Account Created Time</th>\n",
              "      <th>Users Tweet Count</th>\n",
              "      <th>Tweet Coordinates</th>\n",
              "      <th>Place Info</th>\n",
              "      <th>Language</th>\n",
              "      <th>Source</th>\n",
              "      <th>Quote Status Bool</th>\n",
              "      <th>Cleaned Text</th>\n",
              "      <th>Processed Tweet</th>\n",
              "      <th>Polarity</th>\n",
              "      <th>Analysis</th>\n",
              "    </tr>\n",
              "  </thead>\n",
              "  <tbody>\n",
              "    <tr>\n",
              "      <th>155</th>\n",
              "      <td>THE @EZRALEVANT SHOW:\\n\\nCity of Victoria canc...</td>\n",
              "      <td>2021-06-12 00:00:01</td>\n",
              "      <td>23</td>\n",
              "      <td>True</td>\n",
              "      <td>Rebel News</td>\n",
              "      <td>209409</td>\n",
              "      <td>8989</td>\n",
              "      <td>1690</td>\n",
              "      <td>2015-02-13 23:28:17</td>\n",
              "      <td>52713</td>\n",
              "      <td>NaN</td>\n",
              "      <td>NaN</td>\n",
              "      <td>en</td>\n",
              "      <td>Twitter Web App</td>\n",
              "      <td>False</td>\n",
              "      <td>THE  SHOW:City of Victoria cancels Canada Day ...</td>\n",
              "      <td>THE SHOW:City Victoria cancels Canada Day cele...</td>\n",
              "      <td>0.300000</td>\n",
              "      <td>Positive</td>\n",
              "    </tr>\n",
              "    <tr>\n",
              "      <th>143</th>\n",
              "      <td>Siri, what is the currency of El Salvador?\\n\\n...</td>\n",
              "      <td>2021-06-12 00:01:14</td>\n",
              "      <td>93</td>\n",
              "      <td>True</td>\n",
              "      <td>Yano</td>\n",
              "      <td>49080</td>\n",
              "      <td>9071</td>\n",
              "      <td>21832</td>\n",
              "      <td>2013-01-20 23:10:04</td>\n",
              "      <td>7742</td>\n",
              "      <td>NaN</td>\n",
              "      <td>NaN</td>\n",
              "      <td>en</td>\n",
              "      <td>Twitter for iPhone</td>\n",
              "      <td>False</td>\n",
              "      <td>Siri what is the currency of El Salvador?Bitcoin</td>\n",
              "      <td>Siri currency El Salvador?Bitcoin</td>\n",
              "      <td>0.000000</td>\n",
              "      <td>Neutral</td>\n",
              "    </tr>\n",
              "    <tr>\n",
              "      <th>853</th>\n",
              "      <td>📈💶$2,002,828 $BTC LONGED @$37475.0 [12/06/21 0...</td>\n",
              "      <td>2021-06-12 00:07:20</td>\n",
              "      <td>2</td>\n",
              "      <td>False</td>\n",
              "      <td>WhaleTrades 🐳</td>\n",
              "      <td>93529</td>\n",
              "      <td>0</td>\n",
              "      <td>372</td>\n",
              "      <td>2018-02-28 10:32:22</td>\n",
              "      <td>175404</td>\n",
              "      <td>NaN</td>\n",
              "      <td>NaN</td>\n",
              "      <td>en</td>\n",
              "      <td>Bitmex High Trades</td>\n",
              "      <td>False</td>\n",
              "      <td>📈💶 Bitcoin LONGED @ [// ::]🏪FTX | BTCPERP🗣️It`...</td>\n",
              "      <td>📈💶 Bitcoin LONGED @ [// ::]🏪FTX | BTCPERP🗣️It`...</td>\n",
              "      <td>0.500000</td>\n",
              "      <td>Positive</td>\n",
              "    </tr>\n",
              "    <tr>\n",
              "      <th>147</th>\n",
              "      <td>El Salvador has adopted #bitcoin as legal tend...</td>\n",
              "      <td>2021-06-12 00:15:00</td>\n",
              "      <td>51</td>\n",
              "      <td>True</td>\n",
              "      <td>Reuters</td>\n",
              "      <td>23483638</td>\n",
              "      <td>1167</td>\n",
              "      <td>754</td>\n",
              "      <td>2007-03-20 17:46:05</td>\n",
              "      <td>706495</td>\n",
              "      <td>NaN</td>\n",
              "      <td>NaN</td>\n",
              "      <td>en</td>\n",
              "      <td>Twitter Media Studio</td>\n",
              "      <td>False</td>\n",
              "      <td>El Salvador has adopted  as legal tender the f...</td>\n",
              "      <td>El Salvador adopted legal tender first country...</td>\n",
              "      <td>0.225000</td>\n",
              "      <td>Positive</td>\n",
              "    </tr>\n",
              "    <tr>\n",
              "      <th>141</th>\n",
              "      <td>Bitcoin + #COVID19 + Florida = obvious 2021 he...</td>\n",
              "      <td>2021-06-12 00:15:29</td>\n",
              "      <td>216</td>\n",
              "      <td>True</td>\n",
              "      <td>Eric Feigl-Ding</td>\n",
              "      <td>520441</td>\n",
              "      <td>9001</td>\n",
              "      <td>188059</td>\n",
              "      <td>2009-01-10 11:01:33</td>\n",
              "      <td>50900</td>\n",
              "      <td>NaN</td>\n",
              "      <td>NaN</td>\n",
              "      <td>en</td>\n",
              "      <td>Twitter for iPhone</td>\n",
              "      <td>False</td>\n",
              "      <td>Bitcoin    Florida = obvious  headline waiting...</td>\n",
              "      <td>Bitcoin Florida = obvious headline waiting hap...</td>\n",
              "      <td>0.056818</td>\n",
              "      <td>Positive</td>\n",
              "    </tr>\n",
              "    <tr>\n",
              "      <th>...</th>\n",
              "      <td>...</td>\n",
              "      <td>...</td>\n",
              "      <td>...</td>\n",
              "      <td>...</td>\n",
              "      <td>...</td>\n",
              "      <td>...</td>\n",
              "      <td>...</td>\n",
              "      <td>...</td>\n",
              "      <td>...</td>\n",
              "      <td>...</td>\n",
              "      <td>...</td>\n",
              "      <td>...</td>\n",
              "      <td>...</td>\n",
              "      <td>...</td>\n",
              "      <td>...</td>\n",
              "      <td>...</td>\n",
              "      <td>...</td>\n",
              "      <td>...</td>\n",
              "      <td>...</td>\n",
              "    </tr>\n",
              "    <tr>\n",
              "      <th>345</th>\n",
              "      <td>So guys🤗 @ukiyoefinance public presale begins ...</td>\n",
              "      <td>2021-06-19 23:33:01</td>\n",
              "      <td>41</td>\n",
              "      <td>False</td>\n",
              "      <td>MOON SKY Crypto🇸🇻</td>\n",
              "      <td>23822</td>\n",
              "      <td>377</td>\n",
              "      <td>1494</td>\n",
              "      <td>2011-03-15 18:20:50</td>\n",
              "      <td>625</td>\n",
              "      <td>NaN</td>\n",
              "      <td>NaN</td>\n",
              "      <td>en</td>\n",
              "      <td>Twitter for iPhone</td>\n",
              "      <td>False</td>\n",
              "      <td>So guys🤗  public presale begins on June th UTC...</td>\n",
              "      <td>So guys🤗 public presale begins June th UTC :BN...</td>\n",
              "      <td>0.000000</td>\n",
              "      <td>Neutral</td>\n",
              "    </tr>\n",
              "    <tr>\n",
              "      <th>79</th>\n",
              "      <td>Keep selling your bags of $BTC and $ETH to the...</td>\n",
              "      <td>2021-06-19 23:35:38</td>\n",
              "      <td>61</td>\n",
              "      <td>True</td>\n",
              "      <td>David Gokhshtein</td>\n",
              "      <td>395581</td>\n",
              "      <td>1339</td>\n",
              "      <td>64333</td>\n",
              "      <td>2010-07-23 20:33:57</td>\n",
              "      <td>65652</td>\n",
              "      <td>NaN</td>\n",
              "      <td>NaN</td>\n",
              "      <td>en</td>\n",
              "      <td>Twitter for iPhone</td>\n",
              "      <td>False</td>\n",
              "      <td>Keep selling your bags of Bitcoin and  to the ...</td>\n",
              "      <td>Keep selling bags Bitcoin Wall Street elites T...</td>\n",
              "      <td>-0.033333</td>\n",
              "      <td>Negative</td>\n",
              "    </tr>\n",
              "    <tr>\n",
              "      <th>44</th>\n",
              "      <td>THANK YOU SAN DIEGO FOR AN AMAZING EVENT! I’m ...</td>\n",
              "      <td>2021-06-20 00:10:28</td>\n",
              "      <td>41</td>\n",
              "      <td>True</td>\n",
              "      <td>BEN BALLER™</td>\n",
              "      <td>322565</td>\n",
              "      <td>614</td>\n",
              "      <td>6834</td>\n",
              "      <td>2008-12-18 07:09:14</td>\n",
              "      <td>642</td>\n",
              "      <td>NaN</td>\n",
              "      <td>NaN</td>\n",
              "      <td>en</td>\n",
              "      <td>Twitter for iPhone</td>\n",
              "      <td>False</td>\n",
              "      <td>THANK YOU SAN DIEGO FOR AN AMAZING EVENT! I’m ...</td>\n",
              "      <td>THANK YOU SAN DIEGO FOR AN AMAZING EVENT! I’m ...</td>\n",
              "      <td>0.257500</td>\n",
              "      <td>Positive</td>\n",
              "    </tr>\n",
              "    <tr>\n",
              "      <th>69</th>\n",
              "      <td>Some think “Bitcoin fixes this” is a joke. It’...</td>\n",
              "      <td>2021-06-20 00:48:44</td>\n",
              "      <td>360</td>\n",
              "      <td>True</td>\n",
              "      <td>Alex Gladstein 🌋</td>\n",
              "      <td>67336</td>\n",
              "      <td>2423</td>\n",
              "      <td>16173</td>\n",
              "      <td>2009-01-29 17:25:59</td>\n",
              "      <td>63227</td>\n",
              "      <td>NaN</td>\n",
              "      <td>NaN</td>\n",
              "      <td>en</td>\n",
              "      <td>Twitter for iPhone</td>\n",
              "      <td>False</td>\n",
              "      <td>Some think “Bitcoin fixes this” is a joke It’s...</td>\n",
              "      <td>Some think “Bitcoin fixes this” joke It’s notA...</td>\n",
              "      <td>0.128571</td>\n",
              "      <td>Positive</td>\n",
              "    </tr>\n",
              "    <tr>\n",
              "      <th>75</th>\n",
              "      <td>$BTC and $DOGE - adoption \\n\\n https://t.co/DN...</td>\n",
              "      <td>2021-06-20 01:05:20</td>\n",
              "      <td>122</td>\n",
              "      <td>True</td>\n",
              "      <td>David Gokhshtein</td>\n",
              "      <td>395581</td>\n",
              "      <td>1339</td>\n",
              "      <td>64333</td>\n",
              "      <td>2010-07-23 20:33:57</td>\n",
              "      <td>65652</td>\n",
              "      <td>NaN</td>\n",
              "      <td>NaN</td>\n",
              "      <td>en</td>\n",
              "      <td>Twitter for iPhone</td>\n",
              "      <td>False</td>\n",
              "      <td>Bitcoin and Doge  adoption</td>\n",
              "      <td>Bitcoin Doge adoption</td>\n",
              "      <td>0.000000</td>\n",
              "      <td>Neutral</td>\n",
              "    </tr>\n",
              "  </tbody>\n",
              "</table>\n",
              "<p>654 rows × 19 columns</p>\n",
              "</div>"
            ],
            "text/plain": [
              "                                            Tweet Text  ...  Analysis\n",
              "155  THE @EZRALEVANT SHOW:\\n\\nCity of Victoria canc...  ...  Positive\n",
              "143  Siri, what is the currency of El Salvador?\\n\\n...  ...   Neutral\n",
              "853  📈💶$2,002,828 $BTC LONGED @$37475.0 [12/06/21 0...  ...  Positive\n",
              "147  El Salvador has adopted #bitcoin as legal tend...  ...  Positive\n",
              "141  Bitcoin + #COVID19 + Florida = obvious 2021 he...  ...  Positive\n",
              "..                                                 ...  ...       ...\n",
              "345  So guys🤗 @ukiyoefinance public presale begins ...  ...   Neutral\n",
              "79   Keep selling your bags of $BTC and $ETH to the...  ...  Negative\n",
              "44   THANK YOU SAN DIEGO FOR AN AMAZING EVENT! I’m ...  ...  Positive\n",
              "69   Some think “Bitcoin fixes this” is a joke. It’...  ...  Positive\n",
              "75   $BTC and $DOGE - adoption \\n\\n https://t.co/DN...  ...   Neutral\n",
              "\n",
              "[654 rows x 19 columns]"
            ]
          },
          "metadata": {
            "tags": []
          },
          "execution_count": 14
        }
      ]
    },
    {
      "cell_type": "code",
      "metadata": {
        "id": "n6byU_RGucVr"
      },
      "source": [
        "total.drop(['Tweet Coordinates','Place Info','Language','Source','Quote Status Bool','Cleaned Text'],axis =1, inplace = True)\n",
        "total.drop(['User Verified Status','Twitter Username','Processed Tweet','Account Created Time'],axis=1,inplace =True)\n"
      ],
      "execution_count": null,
      "outputs": []
    },
    {
      "cell_type": "code",
      "metadata": {
        "colab": {
          "base_uri": "https://localhost:8080/",
          "height": 603
        },
        "id": "Jc0555EdY2am",
        "outputId": "4a6b03ab-b5bd-445e-c97a-cfa11f0b5e79"
      },
      "source": [
        "total"
      ],
      "execution_count": null,
      "outputs": [
        {
          "output_type": "execute_result",
          "data": {
            "text/html": [
              "<div>\n",
              "<style scoped>\n",
              "    .dataframe tbody tr th:only-of-type {\n",
              "        vertical-align: middle;\n",
              "    }\n",
              "\n",
              "    .dataframe tbody tr th {\n",
              "        vertical-align: top;\n",
              "    }\n",
              "\n",
              "    .dataframe thead th {\n",
              "        text-align: right;\n",
              "    }\n",
              "</style>\n",
              "<table border=\"1\" class=\"dataframe\">\n",
              "  <thead>\n",
              "    <tr style=\"text-align: right;\">\n",
              "      <th></th>\n",
              "      <th>Tweet Text</th>\n",
              "      <th>Tweet Datetime</th>\n",
              "      <th>Retweets</th>\n",
              "      <th>Users Following Count</th>\n",
              "      <th>Number users this account is following</th>\n",
              "      <th>Users Number of Likes</th>\n",
              "      <th>Users Tweet Count</th>\n",
              "      <th>Polarity</th>\n",
              "      <th>Analysis</th>\n",
              "    </tr>\n",
              "  </thead>\n",
              "  <tbody>\n",
              "    <tr>\n",
              "      <th>155</th>\n",
              "      <td>THE @EZRALEVANT SHOW:\\n\\nCity of Victoria canc...</td>\n",
              "      <td>2021-06-12 00:00:01</td>\n",
              "      <td>23</td>\n",
              "      <td>209409</td>\n",
              "      <td>8989</td>\n",
              "      <td>1690</td>\n",
              "      <td>52713</td>\n",
              "      <td>0.300000</td>\n",
              "      <td>Positive</td>\n",
              "    </tr>\n",
              "    <tr>\n",
              "      <th>143</th>\n",
              "      <td>Siri, what is the currency of El Salvador?\\n\\n...</td>\n",
              "      <td>2021-06-12 00:01:14</td>\n",
              "      <td>93</td>\n",
              "      <td>49080</td>\n",
              "      <td>9071</td>\n",
              "      <td>21832</td>\n",
              "      <td>7742</td>\n",
              "      <td>0.000000</td>\n",
              "      <td>Neutral</td>\n",
              "    </tr>\n",
              "    <tr>\n",
              "      <th>853</th>\n",
              "      <td>📈💶$2,002,828 $BTC LONGED @$37475.0 [12/06/21 0...</td>\n",
              "      <td>2021-06-12 00:07:20</td>\n",
              "      <td>2</td>\n",
              "      <td>93529</td>\n",
              "      <td>0</td>\n",
              "      <td>372</td>\n",
              "      <td>175404</td>\n",
              "      <td>0.500000</td>\n",
              "      <td>Positive</td>\n",
              "    </tr>\n",
              "    <tr>\n",
              "      <th>147</th>\n",
              "      <td>El Salvador has adopted #bitcoin as legal tend...</td>\n",
              "      <td>2021-06-12 00:15:00</td>\n",
              "      <td>51</td>\n",
              "      <td>23483638</td>\n",
              "      <td>1167</td>\n",
              "      <td>754</td>\n",
              "      <td>706495</td>\n",
              "      <td>0.225000</td>\n",
              "      <td>Positive</td>\n",
              "    </tr>\n",
              "    <tr>\n",
              "      <th>141</th>\n",
              "      <td>Bitcoin + #COVID19 + Florida = obvious 2021 he...</td>\n",
              "      <td>2021-06-12 00:15:29</td>\n",
              "      <td>216</td>\n",
              "      <td>520441</td>\n",
              "      <td>9001</td>\n",
              "      <td>188059</td>\n",
              "      <td>50900</td>\n",
              "      <td>0.056818</td>\n",
              "      <td>Positive</td>\n",
              "    </tr>\n",
              "    <tr>\n",
              "      <th>...</th>\n",
              "      <td>...</td>\n",
              "      <td>...</td>\n",
              "      <td>...</td>\n",
              "      <td>...</td>\n",
              "      <td>...</td>\n",
              "      <td>...</td>\n",
              "      <td>...</td>\n",
              "      <td>...</td>\n",
              "      <td>...</td>\n",
              "    </tr>\n",
              "    <tr>\n",
              "      <th>345</th>\n",
              "      <td>So guys🤗 @ukiyoefinance public presale begins ...</td>\n",
              "      <td>2021-06-19 23:33:01</td>\n",
              "      <td>41</td>\n",
              "      <td>23822</td>\n",
              "      <td>377</td>\n",
              "      <td>1494</td>\n",
              "      <td>625</td>\n",
              "      <td>0.000000</td>\n",
              "      <td>Neutral</td>\n",
              "    </tr>\n",
              "    <tr>\n",
              "      <th>79</th>\n",
              "      <td>Keep selling your bags of $BTC and $ETH to the...</td>\n",
              "      <td>2021-06-19 23:35:38</td>\n",
              "      <td>61</td>\n",
              "      <td>395581</td>\n",
              "      <td>1339</td>\n",
              "      <td>64333</td>\n",
              "      <td>65652</td>\n",
              "      <td>-0.033333</td>\n",
              "      <td>Negative</td>\n",
              "    </tr>\n",
              "    <tr>\n",
              "      <th>44</th>\n",
              "      <td>THANK YOU SAN DIEGO FOR AN AMAZING EVENT! I’m ...</td>\n",
              "      <td>2021-06-20 00:10:28</td>\n",
              "      <td>41</td>\n",
              "      <td>322565</td>\n",
              "      <td>614</td>\n",
              "      <td>6834</td>\n",
              "      <td>642</td>\n",
              "      <td>0.257500</td>\n",
              "      <td>Positive</td>\n",
              "    </tr>\n",
              "    <tr>\n",
              "      <th>69</th>\n",
              "      <td>Some think “Bitcoin fixes this” is a joke. It’...</td>\n",
              "      <td>2021-06-20 00:48:44</td>\n",
              "      <td>360</td>\n",
              "      <td>67336</td>\n",
              "      <td>2423</td>\n",
              "      <td>16173</td>\n",
              "      <td>63227</td>\n",
              "      <td>0.128571</td>\n",
              "      <td>Positive</td>\n",
              "    </tr>\n",
              "    <tr>\n",
              "      <th>75</th>\n",
              "      <td>$BTC and $DOGE - adoption \\n\\n https://t.co/DN...</td>\n",
              "      <td>2021-06-20 01:05:20</td>\n",
              "      <td>122</td>\n",
              "      <td>395581</td>\n",
              "      <td>1339</td>\n",
              "      <td>64333</td>\n",
              "      <td>65652</td>\n",
              "      <td>0.000000</td>\n",
              "      <td>Neutral</td>\n",
              "    </tr>\n",
              "  </tbody>\n",
              "</table>\n",
              "<p>654 rows × 9 columns</p>\n",
              "</div>"
            ],
            "text/plain": [
              "                                            Tweet Text  ...  Analysis\n",
              "155  THE @EZRALEVANT SHOW:\\n\\nCity of Victoria canc...  ...  Positive\n",
              "143  Siri, what is the currency of El Salvador?\\n\\n...  ...   Neutral\n",
              "853  📈💶$2,002,828 $BTC LONGED @$37475.0 [12/06/21 0...  ...  Positive\n",
              "147  El Salvador has adopted #bitcoin as legal tend...  ...  Positive\n",
              "141  Bitcoin + #COVID19 + Florida = obvious 2021 he...  ...  Positive\n",
              "..                                                 ...  ...       ...\n",
              "345  So guys🤗 @ukiyoefinance public presale begins ...  ...   Neutral\n",
              "79   Keep selling your bags of $BTC and $ETH to the...  ...  Negative\n",
              "44   THANK YOU SAN DIEGO FOR AN AMAZING EVENT! I’m ...  ...  Positive\n",
              "69   Some think “Bitcoin fixes this” is a joke. It’...  ...  Positive\n",
              "75   $BTC and $DOGE - adoption \\n\\n https://t.co/DN...  ...   Neutral\n",
              "\n",
              "[654 rows x 9 columns]"
            ]
          },
          "metadata": {
            "tags": []
          },
          "execution_count": 16
        }
      ]
    },
    {
      "cell_type": "code",
      "metadata": {
        "id": "xsMcGeSTvOtE"
      },
      "source": [
        "import datetime\n",
        "def filterTime(tweet):\n",
        "    tweet = re.sub('[0-9]*:.*', '', tweet)\n",
        "    return tweet\n",
        "\n",
        "\n",
        "total['Tweet Datetime'] = total['Tweet Datetime'].apply(filterTime)\n"
      ],
      "execution_count": null,
      "outputs": []
    },
    {
      "cell_type": "code",
      "metadata": {
        "id": "rznl4ryuxr0h"
      },
      "source": [
        "#tweets_df.to_csv('progress.csv', sep=',', index = False)\n",
        "total['Positive'] = total['Analysis'] =='Positive'\n",
        "total['Neutral'] = total['Analysis'] =='Neutral'\n",
        "total['Negative'] = total['Analysis'] =='Negative'\n",
        "\n",
        "\n",
        "total.drop(['Analysis'],axis =1,inplace =True)\n"
      ],
      "execution_count": null,
      "outputs": []
    },
    {
      "cell_type": "code",
      "metadata": {
        "id": "bV5qm0Bz91wJ"
      },
      "source": [
        "def booltoint(twt):\n",
        "    if twt == True:\n",
        "      twt = 1\n",
        "    else:\n",
        "      twt = 0\n",
        "    return twt\n",
        "\n",
        "total['Positive'] = total['Positive'].apply(booltoint)\n",
        "total['Negative'] = total['Negative'].apply(booltoint)\n",
        "total['Neutral'] = total['Neutral'].apply(booltoint)\n",
        "\n"
      ],
      "execution_count": null,
      "outputs": []
    },
    {
      "cell_type": "code",
      "metadata": {
        "id": "95hcW9aN_lLT"
      },
      "source": [
        "total.drop(['Tweet Text'], axis=1,inplace=True)\n",
        "total.reset_index(inplace=True)\n",
        "total.drop(['index'], axis=1,inplace=True)\n"
      ],
      "execution_count": null,
      "outputs": []
    },
    {
      "cell_type": "code",
      "metadata": {
        "colab": {
          "base_uri": "https://localhost:8080/",
          "height": 162
        },
        "id": "dy7l5307cMT-",
        "outputId": "a2fa311c-6ede-4d43-84b3-eebe49b438ce"
      },
      "source": [
        "t.head(5)"
      ],
      "execution_count": null,
      "outputs": [
        {
          "output_type": "error",
          "ename": "NameError",
          "evalue": "ignored",
          "traceback": [
            "\u001b[0;31m---------------------------------------------------------------------------\u001b[0m",
            "\u001b[0;31mNameError\u001b[0m                                 Traceback (most recent call last)",
            "\u001b[0;32m<ipython-input-21-f3ff82a08db7>\u001b[0m in \u001b[0;36m<module>\u001b[0;34m()\u001b[0m\n\u001b[0;32m----> 1\u001b[0;31m \u001b[0mt\u001b[0m\u001b[0;34m.\u001b[0m\u001b[0mhead\u001b[0m\u001b[0;34m(\u001b[0m\u001b[0;36m5\u001b[0m\u001b[0;34m)\u001b[0m\u001b[0;34m\u001b[0m\u001b[0;34m\u001b[0m\u001b[0m\n\u001b[0m",
            "\u001b[0;31mNameError\u001b[0m: name 't' is not defined"
          ]
        }
      ]
    },
    {
      "cell_type": "code",
      "metadata": {
        "id": "sFs47AJ20A0R"
      },
      "source": [
        "t = total\n",
        "total = t.groupby('Tweet Datetime')['Retweets','Users Following Count','Users Number of Likes','Users Tweet Count','Polarity','Positive','Negative','Neutral'].sum()\n",
        "total.columns = ['Retweets Total','Followers Total','Users Number of Likes Total','Users Tweet Count Total','Polarity Total','Positive','Negative','Neutral']\n",
        "total.head(5)"
      ],
      "execution_count": null,
      "outputs": []
    },
    {
      "cell_type": "code",
      "metadata": {
        "id": "xquoQiYDaRgB"
      },
      "source": [
        "total1 = t.groupby('Tweet Datetime')['Retweets','Users Following Count','Users Number of Likes','Users Tweet Count','Polarity'].mean()\n",
        "total1.columns = ['Retweets Average','Followers Average','Users Number of Likes Average','Users Tweet Count Average','Polarity Average']\n",
        "total1"
      ],
      "execution_count": null,
      "outputs": []
    },
    {
      "cell_type": "code",
      "metadata": {
        "id": "EX5MgsdXbZij"
      },
      "source": [
        "total = pd.concat([total,total1],axis=1)\n",
        "total\n",
        "total = total.reindex(['Followers Total','Followers Average','Users Tweet Count Average','Users Tweet Count Total','Retweets Total','Retweets Average','Users Number of Likes Total','Users Number of Likes Average','Polarity Average','Polarity Total','Positive','Negative','Neutral'], axis=1)\n",
        "total.columns= ['Followers Total','Followers Average','Users Tweet Count Average','Users Tweet Count Total','Retweets Total','Retweets Average','Users Likes Total','Users Likes Average','Polarity Average','Polarity Total','Positive','Negative','Neutral']"
      ],
      "execution_count": null,
      "outputs": []
    },
    {
      "cell_type": "code",
      "metadata": {
        "id": "zfLjskrqf8ED"
      },
      "source": [
        "total"
      ],
      "execution_count": null,
      "outputs": []
    },
    {
      "cell_type": "code",
      "metadata": {
        "id": "4WuET_gDeeH-"
      },
      "source": [
        "total['Bullish Ratio'] = total['Positive']/total['Negative']"
      ],
      "execution_count": null,
      "outputs": []
    },
    {
      "cell_type": "code",
      "metadata": {
        "id": "HS2v2LZRgGlv"
      },
      "source": [
        "total.to_csv('final.csv', sep=',', index = False)\n",
        "total"
      ],
      "execution_count": null,
      "outputs": []
    },
    {
      "cell_type": "code",
      "metadata": {
        "id": "cah_cRXXalt8"
      },
      "source": [
        "total.reset_index(inplace=True)"
      ],
      "execution_count": null,
      "outputs": []
    },
    {
      "cell_type": "code",
      "metadata": {
        "id": "oJ8YmHIajfXo"
      },
      "source": [
        "total"
      ],
      "execution_count": null,
      "outputs": []
    },
    {
      "cell_type": "markdown",
      "metadata": {
        "id": "CWPDJtFGrjTR"
      },
      "source": [
        "##**COINGECKO API**"
      ]
    },
    {
      "cell_type": "code",
      "metadata": {
        "id": "1tkQfAqOriAn"
      },
      "source": [
        "from datetime import datetime\n",
        "\n",
        "import requests\n",
        "url = \"https://api.coingecko.com/api/v3/coins/dogecoin/history?date=\"\n",
        "\n",
        "dates = [datetime.strptime(x,\"%Y-%m-%d \") for x in total['Tweet Datetime']]\n",
        "dates = [datetime.strftime(x,\"%d %m %Y\") for x in dates]\n",
        "dates = [ re.sub(' ','-',x) for x in dates]\n",
        "links = [url+x for x in dates]\n",
        "response = [requests.get(url).json() for url in links]\n",
        "returns = [res[\"market_data\"][\"current_price\"][\"usd\"] for res in response]\n",
        "total['returns'] = returns\n"
      ],
      "execution_count": null,
      "outputs": []
    },
    {
      "cell_type": "code",
      "metadata": {
        "colab": {
          "base_uri": "https://localhost:8080/",
          "height": 535
        },
        "id": "Y_bG1pu8rUPd",
        "outputId": "9df55cc6-a408-45ed-b7b4-756d69bfc3d2"
      },
      "source": [
        "total"
      ],
      "execution_count": null,
      "outputs": [
        {
          "output_type": "execute_result",
          "data": {
            "text/html": [
              "<div>\n",
              "<style scoped>\n",
              "    .dataframe tbody tr th:only-of-type {\n",
              "        vertical-align: middle;\n",
              "    }\n",
              "\n",
              "    .dataframe tbody tr th {\n",
              "        vertical-align: top;\n",
              "    }\n",
              "\n",
              "    .dataframe thead th {\n",
              "        text-align: right;\n",
              "    }\n",
              "</style>\n",
              "<table border=\"1\" class=\"dataframe\">\n",
              "  <thead>\n",
              "    <tr style=\"text-align: right;\">\n",
              "      <th></th>\n",
              "      <th>Tweet Datetime</th>\n",
              "      <th>Followers Total</th>\n",
              "      <th>Followers Average</th>\n",
              "      <th>Users Tweet Count Average</th>\n",
              "      <th>Users Tweet Count Total</th>\n",
              "      <th>Retweets Total</th>\n",
              "      <th>Retweets Average</th>\n",
              "      <th>Users Likes Total</th>\n",
              "      <th>Users Likes Average</th>\n",
              "      <th>Polarity Average</th>\n",
              "      <th>Polarity Total</th>\n",
              "      <th>Positive</th>\n",
              "      <th>Negative</th>\n",
              "      <th>Neutral</th>\n",
              "      <th>Bullish Ratio</th>\n",
              "      <th>returns</th>\n",
              "    </tr>\n",
              "  </thead>\n",
              "  <tbody>\n",
              "    <tr>\n",
              "      <th>0</th>\n",
              "      <td>2021-06-12</td>\n",
              "      <td>93554655</td>\n",
              "      <td>1.087845e+06</td>\n",
              "      <td>83003.825581</td>\n",
              "      <td>7138329</td>\n",
              "      <td>15618</td>\n",
              "      <td>181.604651</td>\n",
              "      <td>1380375</td>\n",
              "      <td>16050.872093</td>\n",
              "      <td>0.107365</td>\n",
              "      <td>9.233368</td>\n",
              "      <td>36</td>\n",
              "      <td>15</td>\n",
              "      <td>35</td>\n",
              "      <td>2.400000</td>\n",
              "      <td>0.317059</td>\n",
              "    </tr>\n",
              "    <tr>\n",
              "      <th>1</th>\n",
              "      <td>2021-06-13</td>\n",
              "      <td>12009295</td>\n",
              "      <td>2.450877e+05</td>\n",
              "      <td>62145.040816</td>\n",
              "      <td>3045107</td>\n",
              "      <td>23024</td>\n",
              "      <td>469.877551</td>\n",
              "      <td>714425</td>\n",
              "      <td>14580.102041</td>\n",
              "      <td>0.119242</td>\n",
              "      <td>5.842855</td>\n",
              "      <td>25</td>\n",
              "      <td>6</td>\n",
              "      <td>18</td>\n",
              "      <td>4.166667</td>\n",
              "      <td>0.313071</td>\n",
              "    </tr>\n",
              "    <tr>\n",
              "      <th>2</th>\n",
              "      <td>2021-06-14</td>\n",
              "      <td>12077458</td>\n",
              "      <td>1.341940e+05</td>\n",
              "      <td>73591.388889</td>\n",
              "      <td>6623225</td>\n",
              "      <td>9747</td>\n",
              "      <td>108.300000</td>\n",
              "      <td>757548</td>\n",
              "      <td>8417.200000</td>\n",
              "      <td>0.091493</td>\n",
              "      <td>8.234355</td>\n",
              "      <td>36</td>\n",
              "      <td>8</td>\n",
              "      <td>46</td>\n",
              "      <td>4.500000</td>\n",
              "      <td>0.325040</td>\n",
              "    </tr>\n",
              "    <tr>\n",
              "      <th>3</th>\n",
              "      <td>2021-06-15</td>\n",
              "      <td>10023751</td>\n",
              "      <td>1.616734e+05</td>\n",
              "      <td>80548.580645</td>\n",
              "      <td>4994012</td>\n",
              "      <td>11693</td>\n",
              "      <td>188.596774</td>\n",
              "      <td>740307</td>\n",
              "      <td>11940.435484</td>\n",
              "      <td>0.059126</td>\n",
              "      <td>3.665795</td>\n",
              "      <td>22</td>\n",
              "      <td>12</td>\n",
              "      <td>28</td>\n",
              "      <td>1.833333</td>\n",
              "      <td>0.328003</td>\n",
              "    </tr>\n",
              "    <tr>\n",
              "      <th>4</th>\n",
              "      <td>2021-06-16</td>\n",
              "      <td>5484419</td>\n",
              "      <td>6.162269e+04</td>\n",
              "      <td>85831.606742</td>\n",
              "      <td>7639013</td>\n",
              "      <td>4018</td>\n",
              "      <td>45.146067</td>\n",
              "      <td>604540</td>\n",
              "      <td>6792.584270</td>\n",
              "      <td>0.066653</td>\n",
              "      <td>5.932115</td>\n",
              "      <td>30</td>\n",
              "      <td>23</td>\n",
              "      <td>36</td>\n",
              "      <td>1.304348</td>\n",
              "      <td>0.321601</td>\n",
              "    </tr>\n",
              "    <tr>\n",
              "      <th>5</th>\n",
              "      <td>2021-06-17</td>\n",
              "      <td>7481179</td>\n",
              "      <td>6.863467e+04</td>\n",
              "      <td>80816.504587</td>\n",
              "      <td>8808999</td>\n",
              "      <td>8156</td>\n",
              "      <td>74.825688</td>\n",
              "      <td>685349</td>\n",
              "      <td>6287.605505</td>\n",
              "      <td>0.044399</td>\n",
              "      <td>4.839457</td>\n",
              "      <td>28</td>\n",
              "      <td>27</td>\n",
              "      <td>54</td>\n",
              "      <td>1.037037</td>\n",
              "      <td>0.307261</td>\n",
              "    </tr>\n",
              "    <tr>\n",
              "      <th>6</th>\n",
              "      <td>2021-06-18</td>\n",
              "      <td>44196373</td>\n",
              "      <td>4.965885e+05</td>\n",
              "      <td>87791.674157</td>\n",
              "      <td>7813459</td>\n",
              "      <td>18443</td>\n",
              "      <td>207.224719</td>\n",
              "      <td>1979917</td>\n",
              "      <td>22246.258427</td>\n",
              "      <td>0.076215</td>\n",
              "      <td>6.783104</td>\n",
              "      <td>34</td>\n",
              "      <td>16</td>\n",
              "      <td>39</td>\n",
              "      <td>2.125000</td>\n",
              "      <td>0.307648</td>\n",
              "    </tr>\n",
              "    <tr>\n",
              "      <th>7</th>\n",
              "      <td>2021-06-19</td>\n",
              "      <td>18273890</td>\n",
              "      <td>2.373232e+05</td>\n",
              "      <td>66798.805195</td>\n",
              "      <td>5143508</td>\n",
              "      <td>13392</td>\n",
              "      <td>173.922078</td>\n",
              "      <td>903281</td>\n",
              "      <td>11730.922078</td>\n",
              "      <td>0.089293</td>\n",
              "      <td>6.875560</td>\n",
              "      <td>24</td>\n",
              "      <td>7</td>\n",
              "      <td>46</td>\n",
              "      <td>3.428571</td>\n",
              "      <td>0.293237</td>\n",
              "    </tr>\n",
              "    <tr>\n",
              "      <th>8</th>\n",
              "      <td>2021-06-20</td>\n",
              "      <td>785482</td>\n",
              "      <td>2.618273e+05</td>\n",
              "      <td>43173.666667</td>\n",
              "      <td>129521</td>\n",
              "      <td>523</td>\n",
              "      <td>174.333333</td>\n",
              "      <td>87340</td>\n",
              "      <td>29113.333333</td>\n",
              "      <td>0.128690</td>\n",
              "      <td>0.386071</td>\n",
              "      <td>2</td>\n",
              "      <td>0</td>\n",
              "      <td>1</td>\n",
              "      <td>inf</td>\n",
              "      <td>0.287835</td>\n",
              "    </tr>\n",
              "  </tbody>\n",
              "</table>\n",
              "</div>"
            ],
            "text/plain": [
              "  Tweet Datetime  Followers Total  ...  Bullish Ratio   returns\n",
              "0    2021-06-12          93554655  ...       2.400000  0.317059\n",
              "1    2021-06-13          12009295  ...       4.166667  0.313071\n",
              "2    2021-06-14          12077458  ...       4.500000  0.325040\n",
              "3    2021-06-15          10023751  ...       1.833333  0.328003\n",
              "4    2021-06-16           5484419  ...       1.304348  0.321601\n",
              "5    2021-06-17           7481179  ...       1.037037  0.307261\n",
              "6    2021-06-18          44196373  ...       2.125000  0.307648\n",
              "7    2021-06-19          18273890  ...       3.428571  0.293237\n",
              "8    2021-06-20            785482  ...            inf  0.287835\n",
              "\n",
              "[9 rows x 16 columns]"
            ]
          },
          "metadata": {
            "tags": []
          },
          "execution_count": 30
        }
      ]
    },
    {
      "cell_type": "code",
      "metadata": {
        "colab": {
          "base_uri": "https://localhost:8080/"
        },
        "id": "0Ux5c0qsjUuI",
        "outputId": "ed5bb343-2ac2-4ea7-f4e1-9091d72c1884"
      },
      "source": [
        "# removing inf values from bullish ratio\n",
        "total['Bullish Ratio'] = [ total['Positive'].mean()/total['Negative'].mean() if x == numpy.inf else x for x in total['Bullish Ratio']  ]\n",
        "total['Bullish Ratio']"
      ],
      "execution_count": null,
      "outputs": [
        {
          "output_type": "execute_result",
          "data": {
            "text/plain": [
              "0    2.400000\n",
              "1    4.166667\n",
              "2    4.500000\n",
              "3    1.833333\n",
              "4    1.304348\n",
              "5    1.037037\n",
              "6    2.125000\n",
              "7    3.428571\n",
              "8    2.078947\n",
              "Name: Bullish Ratio, dtype: float64"
            ]
          },
          "metadata": {
            "tags": []
          },
          "execution_count": 31
        }
      ]
    },
    {
      "cell_type": "code",
      "metadata": {
        "colab": {
          "base_uri": "https://localhost:8080/",
          "height": 282
        },
        "id": "I5z9bMXD4Bef",
        "outputId": "2bc84fc8-617f-4811-fa2e-a8777bcebbef"
      },
      "source": [
        "import matplotlib.pyplot as plt\n",
        "plt.plot(total['Polarity Average'][:-1])\n",
        "plt.plot(total['returns'][:-1])"
      ],
      "execution_count": null,
      "outputs": [
        {
          "output_type": "execute_result",
          "data": {
            "text/plain": [
              "[<matplotlib.lines.Line2D at 0x7fe63aa1d650>]"
            ]
          },
          "metadata": {
            "tags": []
          },
          "execution_count": 32
        },
        {
          "output_type": "display_data",
          "data": {
            "image/png": "[encoded data removed]",
            "text/plain": [
              "<Figure size 432x288 with 1 Axes>"
            ]
          },
          "metadata": {
            "tags": [],
            "needs_background": "light"
          }
        }
      ]
    }
  ]
}
